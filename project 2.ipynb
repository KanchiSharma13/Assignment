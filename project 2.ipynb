{
 "cells": [
  {
   "cell_type": "code",
   "execution_count": 73,
   "metadata": {},
   "outputs": [],
   "source": [
    "import os\n",
    "import cv2\n",
    "import numpy as np\n",
    "import torch\n",
    "import torch.optim as optim\n",
    "from torchvision.transforms import transforms\n",
    "from torch.utils.data import Dataset, DataLoader, Subset, random_split\n",
    "import torchvision.models as models\n",
    "import pandas as pd\n",
    "from PIL import Image\n",
    "import matplotlib.pyplot as plt\n",
    "import nest_asyncio\n",
    "from fastapi import FastAPI, File, UploadFile\n",
    "from fastapi.responses import JSONResponse\n",
    "from io import BytesIO\n",
    "import uvicorn\n",
    "from collections import Counter\n",
    "\n",
    "nest_asyncio.apply()\n",
    "\n",
    "app = FastAPI()\n",
    "\n",
    "device = torch.device(\"cuda\" if torch.cuda.is_available() else \"cpu\")"
   ]
  },
  {
   "cell_type": "code",
   "execution_count": 74,
   "metadata": {},
   "outputs": [],
   "source": [
    "folder_path = \"C:/Users/manan/Downloads/project2/dataset\""
   ]
  },
  {
   "cell_type": "code",
   "execution_count": 75,
   "metadata": {},
   "outputs": [
    {
     "data": {
      "image/png": "[encoded data removed]",
      "text/plain": [
       "<Figure size 640x480 with 1 Axes>"
      ]
     },
     "metadata": {},
     "output_type": "display_data"
    }
   ],
   "source": [
    "classes = [name for name in os.listdir(folder_path) if os.path.isdir(os.path.join(folder_path, name))]\n",
    "class_counts = Counter({cls: len(os.listdir(os.path.join(folder_path, cls))) for cls in classes})\n",
    "\n",
    "# Plotting\n",
    "plt.bar(class_counts.keys(), class_counts.values(), color='skyblue')\n",
    "plt.xlabel('Classes')\n",
    "plt.ylabel('Number of Images')\n",
    "plt.title('Class Distribution')\n",
    "plt.xticks(rotation=45, ha='right')\n",
    "plt.tight_layout()\n",
    "plt.show()"
   ]
  },
  {
   "cell_type": "code",
   "execution_count": 76,
   "metadata": {},
   "outputs": [
    {
     "name": "stdout",
     "output_type": "stream",
     "text": [
      "(192, 256, 3)\n"
     ]
    }
   ],
   "source": [
    "image = \"C:/Users/manan/Downloads/project2/dataset/40/443638.jpeg\"\n",
    "image_load = cv2.imread(image)\n",
    "print(image_load.shape)"
   ]
  },
  {
   "cell_type": "code",
   "execution_count": 77,
   "metadata": {},
   "outputs": [],
   "source": [
    "transform = {\n",
    "    'train': transforms.Compose([\n",
    "        transforms.CenterCrop((224, 224)),\n",
    "        transforms.RandomHorizontalFlip(p=0.5),\n",
    "        transforms.ToTensor(),  \n",
    "        transforms.Normalize(mean=[0.485, 0.456, 0.406], std=[0.229, 0.224, 0.225])\n",
    "    ]),\n",
    "    'val': transforms.Compose([\n",
    "        transforms.CenterCrop((224, 224)),  \n",
    "        transforms.ToTensor(),  \n",
    "        transforms.Normalize(mean=[0.485, 0.456, 0.406], std=[0.229, 0.224, 0.225])\n",
    "    ])\n",
    "}\n"
   ]
  },
  {
   "cell_type": "code",
   "execution_count": 78,
   "metadata": {},
   "outputs": [],
   "source": [
    "class CustomDataset(Dataset):\n",
    "    def __init__(self, root_dir, transform):\n",
    "        self.root_dir = root_dir\n",
    "        self.transform = transform\n",
    "        self.image_label_mapping = []\n",
    "        self.class_to_idx = self._find_classes()\n",
    "\n",
    "        # Create image-label mapping\n",
    "        for class_name, class_idx in self.class_to_idx.items():\n",
    "            class_path = os.path.join(root_dir, class_name)\n",
    "            if os.path.isdir(class_path):\n",
    "                for img_name in os.listdir(class_path):\n",
    "                    img_path = os.path.join(class_path, img_name)\n",
    "                    if os.path.isfile(img_path):\n",
    "                        self.image_label_mapping.append((img_path, class_idx))\n",
    "\n",
    "    def _find_classes(self):\n",
    "        classes = [d for d in os.listdir(self.root_dir) if os.path.isdir(os.path.join(self.root_dir, d))]\n",
    "        classes.sort()  # Sort to ensure consistent ordering\n",
    "        return {class_name: idx for idx, class_name in enumerate(classes)}\n",
    "\n",
    "    def __len__(self):\n",
    "        return len(self.image_label_mapping)\n",
    "\n",
    "    def __getitem__(self, idx):\n",
    "        img_path, label = self.image_label_mapping[idx]\n",
    "        image = cv2.imread(img_path)\n",
    "        image = Image.fromarray(cv2.cvtColor(image, cv2.COLOR_BGR2RGB))\n",
    "        # image = Image.open(img_path).convert('RGB')\n",
    "\n",
    "        if self.transform:\n",
    "            image = self.transform(image)\n",
    "        # print(image)\n",
    "        # print(label)\n",
    "        return image, label"
   ]
  },
  {
   "cell_type": "code",
   "execution_count": 79,
   "metadata": {},
   "outputs": [
    {
     "name": "stdout",
     "output_type": "stream",
     "text": [
      "Class to Index Mapping:\n",
      "Class Name: 0, Class Index: 0\n",
      "Class Name: 130, Class Index: 1\n",
      "Class Name: 180, Class Index: 2\n",
      "Class Name: 230, Class Index: 3\n",
      "Class Name: 270, Class Index: 4\n",
      "Class Name: 320, Class Index: 5\n",
      "Class Name: 40, Class Index: 6\n",
      "Class Name: 90, Class Index: 7\n"
     ]
    }
   ],
   "source": [
    "dataset = CustomDataset(folder_path,transform=None)\n",
    "print(\"Class to Index Mapping:\")\n",
    "for class_name, class_idx in dataset.class_to_idx.items():\n",
    "    print(f\"Class Name: {class_name}, Class Index: {class_idx}\")\n",
    "# print(len(dataset.class_to_idx.items()))"
   ]
  },
  {
   "cell_type": "code",
   "execution_count": 80,
   "metadata": {},
   "outputs": [
    {
     "name": "stdout",
     "output_type": "stream",
     "text": [
      "27042\n"
     ]
    }
   ],
   "source": [
    "full_dataset = CustomDataset(folder_path,transform = None)\n",
    "print(len(full_dataset))\n",
    "# for idx in range(5):\n",
    "#     image, label = dataset[idx]\n",
    "#     print(f\"image: {image}\")\n",
    "#     print(f\"Label: {label}\")"
   ]
  },
  {
   "cell_type": "code",
   "execution_count": 81,
   "metadata": {},
   "outputs": [
    {
     "name": "stdout",
     "output_type": "stream",
     "text": [
      "Train size: 18929\n",
      "Validation size: 4056\n",
      "Test size: 4057\n"
     ]
    }
   ],
   "source": [
    "train_size = int(0.7 * len(full_dataset))\n",
    "val_size = int(0.15 * len(full_dataset))\n",
    "test_size = len(full_dataset) - train_size - val_size\n",
    "train_dataset, val_dataset, test_dataset = random_split(full_dataset, [train_size, val_size, test_size])\n",
    "\n",
    "train_dataset.dataset.transform = transform['train']\n",
    "val_dataset.dataset.transform = transform['val']\n",
    "test_dataset.dataset.transform = transform['val']\n",
    "\n",
    "# Create dataloaders\n",
    "train_loader = DataLoader(train_dataset, batch_size=32, shuffle=True)\n",
    "val_loader = DataLoader(val_dataset, batch_size=32, shuffle=False)\n",
    "test_loader = DataLoader(test_dataset, batch_size=32, shuffle=False)\n",
    "\n",
    "# Example: Print dataset sizes\n",
    "print(f\"Train size: {len(train_dataset)}\")\n",
    "print(f\"Validation size: {len(val_dataset)}\")\n",
    "print(f\"Test size: {len(test_dataset)}\")"
   ]
  },
  {
   "cell_type": "code",
   "execution_count": 82,
   "metadata": {},
   "outputs": [],
   "source": [
    "model = models.resnet18(weights=models.ResNet18_Weights.DEFAULT)\n",
    "num_features = model.fc.in_features\n",
    "num_classes = len(dataset.class_to_idx.items())\n",
    "model.fc = torch.nn.Linear(num_features,num_classes)\n",
    "\n",
    "criterion = torch.nn.CrossEntropyLoss()\n",
    "optimizer = optim.Adam(model.parameters(), lr= 0.001)"
   ]
  },
  {
   "cell_type": "code",
   "execution_count": 83,
   "metadata": {},
   "outputs": [],
   "source": [
    "def train_model(model, train_loader, criterion, optimizer, device,):\n",
    "    train_loss, train_acc = 0.0, 0.0\n",
    "    model.train()\n",
    "    train_running_loss = 0.0\n",
    "    train_running_correct = 0\n",
    "    total = 0\n",
    "\n",
    "    for inputs, labels in train_loader:\n",
    "        inputs, labels = inputs.to(device), labels.to(device)\n",
    "\n",
    "        optimizer.zero_grad()  # Zero the gradients\n",
    "        outputs = model(inputs)\n",
    "        loss = criterion(outputs, labels)\n",
    "        loss.backward()\n",
    "        optimizer.step()\n",
    "\n",
    "        train_running_loss += loss.item()\n",
    "        _, predicted = outputs.max(1)  # Get the index of the max log-probability\n",
    "        total += labels.size(0)\n",
    "        train_running_correct += predicted.eq(labels).sum().item()\n",
    "    # scheduler.step()\n",
    "    train_loss = train_running_loss / len(train_loader)\n",
    "    train_acc = 100 * train_running_correct / total\n",
    "    return train_loss, train_acc\n",
    "\n",
    "def validate_model(model, val_loader, criterion, device):\n",
    "    model.eval()\n",
    "    val_running_loss = 0.0\n",
    "    val_running_correct = 0\n",
    "    total = 0\n",
    "    with torch.no_grad():\n",
    "        for inputs, labels in val_loader:\n",
    "            inputs, labels = inputs.to(device), labels.to(device)\n",
    "            outputs = model(inputs)\n",
    "            loss = criterion(outputs, labels)\n",
    "            val_running_loss += loss.item()\n",
    "            _, predicted = outputs.max(1)\n",
    "            total += labels.size(0)\n",
    "            val_running_correct += predicted.eq(labels).sum().item()\n",
    "\n",
    "    val_loss = val_running_loss / len(val_loader)\n",
    "    val_acc = 100 * val_running_correct / total\n",
    "    return val_loss, val_acc\n",
    "\n",
    "class SaveBestModel:\n",
    "   \n",
    "    def __init__(\n",
    "        self, best_valid_loss=float('inf')\n",
    "    ):\n",
    "        self.best_valid_loss = best_valid_loss\n",
    "        \n",
    "    def __call__(\n",
    "        self, current_valid_loss, \n",
    "        epoch, model, optimizer, criterion\n",
    "    ):\n",
    "        if current_valid_loss < self.best_valid_loss:\n",
    "            self.best_valid_loss = current_valid_loss\n",
    "            print(f\"\\nBest validation loss: {self.best_valid_loss}\")\n",
    "            print(f\"\\nSaving best model for epoch: {epoch+1}\\n\")\n",
    "            torch.save({\n",
    "                'epoch': epoch+1,\n",
    "                'model_state_dict': model.state_dict(),\n",
    "                'optimizer_state_dict': optimizer.state_dict(),\n",
    "                'loss': criterion,\n",
    "                }, 'best_model.pth')"
   ]
  },
  {
   "cell_type": "code",
   "execution_count": 84,
   "metadata": {},
   "outputs": [
    {
     "name": "stdout",
     "output_type": "stream",
     "text": [
      "[INFO]: Epoch 1 of 2\n",
      "Training loss: 0.260, Training acc: 91.827\n",
      "Validation loss: 0.300, Validation acc: 91.050\n",
      "\n",
      "Best validation loss: 0.299547074875963\n",
      "\n",
      "Saving best model for epoch: 1\n",
      "\n",
      "--------------------------------------------------\n",
      "[INFO]: Epoch 2 of 2\n",
      "Training loss: 0.184, Training acc: 94.231\n",
      "Validation loss: 0.191, Validation acc: 94.132\n",
      "\n",
      "Best validation loss: 0.1913596202480042\n",
      "\n",
      "Saving best model for epoch: 2\n",
      "\n",
      "--------------------------------------------------\n"
     ]
    }
   ],
   "source": [
    "save_best_model = SaveBestModel()\n",
    "train_loss_list, valid_loss_list = [], []\n",
    "train_acc_list, valid_acc_list = [],[]\n",
    "num_epochs=2\n",
    "# Training and Validation\n",
    "for epoch in range(num_epochs):\n",
    "    print(f\"[INFO]: Epoch {epoch+1} of {num_epochs}\")\n",
    "    \n",
    "    train_loss, train_acc = train_model(model, train_loader, criterion, optimizer, device)\n",
    "    valid_loss, valid_acc = validate_model(model, val_loader, criterion, device)\n",
    "    \n",
    "    train_loss_list.append(train_loss)\n",
    "    valid_loss_list.append(valid_loss)\n",
    "    train_acc_list.append(train_acc)\n",
    "    valid_acc_list.append(valid_acc)\n",
    "\n",
    "    print(f\"Training loss: {train_loss:.3f}, Training acc: {train_acc:.3f}\")\n",
    "    print(f\"Validation loss: {valid_loss:.3f}, Validation acc: {valid_acc:.3f}\")\n",
    "    \n",
    "    save_best_model(valid_loss, epoch, model, optimizer, criterion) #save best weights\n",
    "    \n",
    "    print('-'*50)"
   ]
  },
  {
   "cell_type": "code",
   "execution_count": null,
   "metadata": {},
   "outputs": [
    {
     "name": "stderr",
     "output_type": "stream",
     "text": [
      "INFO:     Started server process [22704]\n",
      "INFO:     Waiting for application startup.\n",
      "INFO:     Application startup complete.\n",
      "INFO:     Uvicorn running on http://0.0.0.0:8000 (Press CTRL+C to quit)\n"
     ]
    },
    {
     "name": "stdout",
     "output_type": "stream",
     "text": [
      "INFO:     127.0.0.1:65378 - \"GET / HTTP/1.1\" 404 Not Found\n",
      "INFO:     127.0.0.1:65378 - \"GET /favicon.ico HTTP/1.1\" 404 Not Found\n",
      "INFO:     127.0.0.1:65391 - \"GET / HTTP/1.1\" 404 Not Found\n",
      "INFO:     127.0.0.1:65391 - \"GET /favicon.ico HTTP/1.1\" 404 Not Found\n"
     ]
    }
   ],
   "source": [
    "@app.get(\"/evaluate\")\n",
    "async def evaluate_model():\n",
    "    model.eval()\n",
    "    test_loss = 0.0\n",
    "    correct = 0\n",
    "    total = 0\n",
    "    all_labels = []\n",
    "    all_predictions = []\n",
    "\n",
    "    with torch.no_grad():\n",
    "        for inputs, labels in test_loader:\n",
    "            inputs, labels = inputs.to(device), labels.to(device)\n",
    "            outputs = model(inputs)\n",
    "            loss = criterion(outputs, labels)\n",
    "            test_loss += loss.item()\n",
    "            _, predicted = outputs.max(1)\n",
    "            total += labels.size(0)\n",
    "            correct += predicted.eq(labels).sum().item()\n",
    "            all_labels.extend(labels.cpu().numpy())\n",
    "            all_predictions.extend(predicted.cpu().numpy())\n",
    "\n",
    "    test_loss /= len(test_loader)\n",
    "    test_accuracy = 100 * correct / total\n",
    "\n",
    "    # Return results as JSON\n",
    "    return {\n",
    "        \"test_loss\": round(test_loss, 4),\n",
    "        \"test_accuracy\": round(test_accuracy, 2),\n",
    "        \"total_samples\": total,\n",
    "        \"correct_predictions\": correct,\n",
    "        \"all_labels\": all_labels,\n",
    "        \"all_predictions\": all_predictions\n",
    "    }\n",
    "\n",
    "if __name__ == \"__main__\":\n",
    "    import uvicorn\n",
    "    uvicorn.run(app, host=\"0.0.0.0\", port=8000)"
   ]
  }
 ],
 "metadata": {
  "kernelspec": {
   "display_name": "Python 3",
   "language": "python",
   "name": "python3"
  },
  "language_info": {
   "codemirror_mode": {
    "name": "ipython",
    "version": 3
   },
   "file_extension": ".py",
   "mimetype": "text/x-python",
   "name": "python",
   "nbconvert_exporter": "python",
   "pygments_lexer": "ipython3",
   "version": "3.12.2"
  }
 },
 "nbformat": 4,
 "nbformat_minor": 2
}
