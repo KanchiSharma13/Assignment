{
  "nbformat": 4,
  "nbformat_minor": 0,
  "metadata": {
    "colab": {
      "provenance": []
    },
    "kernelspec": {
      "name": "python3",
      "display_name": "Python 3"
    },
    "language_info": {
      "name": "python"
    }
  },
  "cells": [
    {
      "cell_type": "code",
      "source": [
        "from google.colab import drive\n",
        "drive.mount('/content/drive')"
      ],
      "metadata": {
        "id": "U7auG-0nu-rf",
        "colab": {
          "base_uri": "https://localhost:8080/"
        },
        "outputId": "49bd9886-461c-4753-a2a1-8573e5e739d1"
      },
      "execution_count": 11,
      "outputs": [
        {
          "output_type": "stream",
          "name": "stdout",
          "text": [
            "Drive already mounted at /content/drive; to attempt to forcibly remount, call drive.mount(\"/content/drive\", force_remount=True).\n"
          ]
        }
      ]
    },
    {
      "cell_type": "code",
      "source": [
        "import matplotlib.pyplot as plt\n",
        "import numpy as np\n",
        "import cv2\n",
        "import os"
      ],
      "metadata": {
        "id": "TKm5Ji-ba8yx"
      },
      "execution_count": 12,
      "outputs": []
    },
    {
      "cell_type": "code",
      "source": [
        "image_path = \"/content/drive/MyDrive/Assignment/assignment/images\"\n",
        "floor = \"/content/drive/MyDrive/Assignment/assignment/floor.png\"\n",
        "wall = \"/content/drive/MyDrive/Assignment/assignment/wall.png\"\n",
        "car_shadow_mask = \"/content/drive/MyDrive/Assignment/assignment/shadow_masks\"\n",
        "car_masks = \"/content/drive/MyDrive/Assignment/assignment/car_masks\""
      ],
      "metadata": {
        "id": "xEEEXanWXiJd"
      },
      "execution_count": 13,
      "outputs": []
    },
    {
      "cell_type": "code",
      "source": [
        "def read_images_and_masks(index):\n",
        "    car_image = cv2.imread(os.path.join(image_path, f\"{index}.jpeg\"))\n",
        "    car_mask = cv2.imread(os.path.join(car_masks, f\"{index}.png\"), cv2.IMREAD_GRAYSCALE)\n",
        "    shadow_mask = cv2.imread(os.path.join(car_shadow_mask, f\"{index}.png\"), cv2.IMREAD_GRAYSCALE)\n",
        "\n",
        "    def read_and_crop(image_path):\n",
        "      image = cv2.imread(str(image_path))\n",
        "      gray = cv2.cvtColor(image, cv2.COLOR_BGR2GRAY)\n",
        "      _, mask = cv2.threshold(gray, 240, 255, cv2.THRESH_BINARY)\n",
        "      # Find bounding box of non-white regions\n",
        "      coords = cv2.findNonZero(255 - mask)  # Invert mask to find content\n",
        "      if coords is not None:\n",
        "          x, y, w, h = cv2.boundingRect(coords)\n",
        "          return image[y:y + h, x:x + w]\n",
        "      return image  # Return original if no cropping needed\n",
        "    wall_image = read_and_crop(wall)\n",
        "    floor_image = read_and_crop(floor)\n",
        "    return car_image, car_mask, shadow_mask, wall_image, floor_image"
      ],
      "metadata": {
        "id": "CXlftzXji9Ij"
      },
      "execution_count": 14,
      "outputs": []
    },
    {
      "cell_type": "code",
      "source": [
        "def preprocess_masks(mask):\n",
        "    kernel = np.ones((5, 5), np.uint8)\n",
        "    mask_cleaned = cv2.morphologyEx(mask, cv2.MORPH_CLOSE, kernel)\n",
        "    mask_cleaned = cv2.morphologyEx(mask_cleaned, cv2.MORPH_OPEN, kernel)\n",
        "    return mask_cleaned"
      ],
      "metadata": {
        "id": "kZdZs5L9k39D"
      },
      "execution_count": 15,
      "outputs": []
    },
    {
      "cell_type": "code",
      "source": [
        "def adjust_car_size_and_position(car_image, car_mask, target_size, target_position, canvas_size):\n",
        "    \"\"\"\n",
        "    Adjusts car size and positions it on the canvas with boundary checks.\n",
        "\n",
        "    Parameters:\n",
        "        car_image (numpy.ndarray): Original car image.\n",
        "        car_mask (numpy.ndarray): Mask corresponding to the car image.\n",
        "        target_size (tuple): Target size (width, height) for the resized car.\n",
        "        target_position (tuple): Target position (x, y) for the car's top-left corner.\n",
        "        canvas_size (tuple): Canvas dimensions (height, width).\n",
        "\n",
        "    Returns:\n",
        "        canvas (numpy.ndarray): Final canvas with adjusted car image.\n",
        "    \"\"\"\n",
        "    # Resize car image and mask to the target size\n",
        "    target_width, target_height = target_size\n",
        "    resized_car = cv2.resize(car_image, (target_width, target_height), interpolation=cv2.INTER_AREA)\n",
        "    resized_mask = cv2.resize(car_mask, (target_width, target_height), interpolation=cv2.INTER_AREA)\n",
        "\n",
        "    # Create a blank canvas with the same dimensions as the canvas size\n",
        "    canvas_height, canvas_width = canvas_size\n",
        "    canvas = np.zeros((canvas_height, canvas_width, 3), dtype=np.uint8)\n",
        "\n",
        "    # Calculate the region on the canvas\n",
        "    start_x, start_y = target_position\n",
        "    end_x = min(start_x + target_width, canvas_width)\n",
        "    end_y = min(start_y + target_height, canvas_height)\n",
        "\n",
        "    # Calculate the valid region within the resized car\n",
        "    region_width = end_x - start_x\n",
        "    region_height = end_y - start_y\n",
        "    if region_width > 0 and region_height > 0:\n",
        "        resized_car = resized_car[:region_height, :region_width]\n",
        "        resized_mask = resized_mask[:region_height, :region_width]\n",
        "\n",
        "        # Safely place the resized car onto the canvas\n",
        "        canvas[start_y:end_y, start_x:end_x] = resized_car\n",
        "\n",
        "    return canvas\n"
      ],
      "metadata": {
        "id": "qzoTf2ygZ4N4"
      },
      "execution_count": 16,
      "outputs": []
    },
    {
      "cell_type": "code",
      "source": [
        "def create_background(wall, floor, output_size):\n",
        "    wall_height = int(output_size[0] * 0.65)\n",
        "    floor_height = output_size[0] - wall_height + 10\n",
        "    wall_resized = cv2.resize(wall, (output_size[1], wall_height), interpolation=cv2.INTER_AREA)\n",
        "    floor_resized = cv2.resize(floor, (output_size[1], floor_height), interpolation=cv2.INTER_AREA)\n",
        "    background = np.vstack((wall_resized, floor_resized))\n",
        "    return background\n",
        "\n",
        "def replace_background(car_image, mask_image, background_image):\n",
        "    # Resize the mask and background to match the car image\n",
        "    mask_resized = cv2.resize(mask_image, (car_image.shape[1], car_image.shape[0]))\n",
        "    background_resized = cv2.resize(background_image, (car_image.shape[1], car_image.shape[0]))\n",
        "\n",
        "    # Convert the background to RGB if it is in BGR format\n",
        "    background_resized = cv2.cvtColor(background_resized, cv2.COLOR_BGR2RGB)\n",
        "\n",
        "    # Create a masked version of the car image\n",
        "    masked_car = np.copy(car_image)\n",
        "    masked_car[mask_resized == 0] = [0, 0, 0]  # Set pixels outside the mask to black\n",
        "\n",
        "    # Create a masked version of the background\n",
        "    masked_background = np.copy(background_resized)\n",
        "    masked_background[mask_resized > 0] = [0, 0, 0]  # Set pixels inside the mask to black\n",
        "\n",
        "    # Combine the car and background\n",
        "    combined_image = masked_car + masked_background\n",
        "\n",
        "    return combined_image"
      ],
      "metadata": {
        "id": "w4W464uym-m1"
      },
      "execution_count": 17,
      "outputs": []
    },
    {
      "cell_type": "code",
      "source": [
        "def add_shadows(image, shadow_mask, car_mask):\n",
        "    shadow_mask = cv2.GaussianBlur(shadow_mask, (15, 15), 0)\n",
        "    shadow_mask = cv2.resize(shadow_mask, (image.shape[1], image.shape[0]))\n",
        "    shadow_mask = cv2.bitwise_and(shadow_mask, car_mask)  # Align shadow with car\n",
        "    shadow = cv2.merge([shadow_mask] * 3)\n",
        "    shadow_overlay = cv2.addWeighted(image, 1, shadow, -0.6, 0)\n",
        "    return shadow_overlay\n",
        "# def add_shadows_with_alignment(image, shadow_mask, car_mask):\n",
        "#     # Resize and blur the shadow mask\n",
        "#     shadow_mask = cv2.GaussianBlur(shadow_mask, (15, 15), 0)\n",
        "#     shadow_mask = cv2.resize(shadow_mask, (image.shape[1], image.shape[0]))\n",
        "\n",
        "#     # Find the bottommost white pixel in the car mask\n",
        "#     rows, cols = np.where(car_mask == 255)\n",
        "#     if len(rows) > 0:\n",
        "#         bottom_row = max(rows)\n",
        "#         shadow_mask_aligned = np.zeros_like(shadow_mask)\n",
        "#         shadow_mask_aligned[bottom_row:] = shadow_mask[bottom_row:]\n",
        "#     else:\n",
        "#         shadow_mask_aligned = shadow_mask\n",
        "\n",
        "#     # Align shadow to the car mask region\n",
        "#     shadow_mask_final = cv2.bitwise_and(shadow_mask_aligned, car_mask)\n",
        "#     shadow = cv2.merge([shadow_mask_final] * 3)\n",
        "\n",
        "#     # Apply the shadow overlay\n",
        "#     shadow_overlay = cv2.addWeighted(image, 1, shadow, -0.3, 0)\n",
        "#     return shadow_overlay\n"
      ],
      "metadata": {
        "id": "NmufwJQXnAeO"
      },
      "execution_count": 18,
      "outputs": []
    },
    {
      "cell_type": "code",
      "source": [
        "def process_images():\n",
        "    for i in range(1, 7):\n",
        "        car, car_mask, shadow_mask, wall, floor = read_images_and_masks(i)\n",
        "\n",
        "        # Resize and reposition cars\n",
        "        # car, car_mask = resize_and_position_cars(car, car_mask)\n",
        "\n",
        "        car_mask = preprocess_masks(car_mask)\n",
        "        shadow_mask = preprocess_masks(shadow_mask)\n",
        "\n",
        "        background = create_background(wall, floor, car.shape[:2])\n",
        "        car_with_bg = replace_background(car, car_mask, background)\n",
        "        # final_image = add_shadows(car_with_bg, shadow_mask, car_mask)\n",
        "        result = add_shadows(car_with_bg, shadow_mask, car_mask)\n",
        "\n",
        "        output_path = os.path.join(\"/content/drive/MyDrive/Assignment/assignment\", f\"output_{i}.jpg\")\n",
        "        cv2.imwrite(output_path, result)\n",
        "        print(f\"Processed and saved: {output_path}\")"
      ],
      "metadata": {
        "id": "I5G53jninDIA"
      },
      "execution_count": 19,
      "outputs": []
    },
    {
      "cell_type": "code",
      "source": [
        "process_images()"
      ],
      "metadata": {
        "colab": {
          "base_uri": "https://localhost:8080/"
        },
        "id": "QsQn_Hw8nHZ6",
        "outputId": "a600082a-d1f8-43f8-bfd6-ca371a508113"
      },
      "execution_count": 20,
      "outputs": [
        {
          "output_type": "stream",
          "name": "stdout",
          "text": [
            "Processed and saved: /content/drive/MyDrive/Assignment/assignment/output_1.jpg\n",
            "Processed and saved: /content/drive/MyDrive/Assignment/assignment/output_2.jpg\n",
            "Processed and saved: /content/drive/MyDrive/Assignment/assignment/output_3.jpg\n",
            "Processed and saved: /content/drive/MyDrive/Assignment/assignment/output_4.jpg\n",
            "Processed and saved: /content/drive/MyDrive/Assignment/assignment/output_5.jpg\n",
            "Processed and saved: /content/drive/MyDrive/Assignment/assignment/output_6.jpg\n"
          ]
        }
      ]
    }
  ]
}